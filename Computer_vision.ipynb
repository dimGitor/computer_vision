{
  "nbformat": 4,
  "nbformat_minor": 0,
  "metadata": {
    "colab": {
      "name": "Computer vision.ipynb",
      "provenance": [],
      "collapsed_sections": [
        "MI39LtrOp3Ns"
      ],
      "toc_visible": true,
      "machine_shape": "hm",
      "include_colab_link": true
    },
    "kernelspec": {
      "name": "python3",
      "display_name": "Python 3"
    },
    "accelerator": "GPU"
  },
  "cells": [
    {
      "cell_type": "markdown",
      "metadata": {
        "id": "view-in-github",
        "colab_type": "text"
      },
      "source": [
        "<a href=\"https://colab.research.google.com/github/dimGitor/computer_vision/blob/master/Computer_vision.ipynb\" target=\"_parent\"><img src=\"https://colab.research.google.com/assets/colab-badge.svg\" alt=\"Open In Colab\"/></a>"
      ]
    },
    {
      "cell_type": "markdown",
      "metadata": {
        "id": "yMdXzgAdadRy",
        "colab_type": "text"
      },
      "source": [
        "#**Images classificator**\n",
        "> *Input data:*\n",
        "\n",
        "cifar10: https://www.cs.toronto.edu/~kriz/cifar.html\n"
      ]
    },
    {
      "cell_type": "markdown",
      "metadata": {
        "id": "qurealD7mSC5",
        "colab_type": "text"
      },
      "source": [
        "## **Initialization**"
      ]
    },
    {
      "cell_type": "markdown",
      "metadata": {
        "id": "h4Rxx6JNjlPi",
        "colab_type": "text"
      },
      "source": [
        "### Instalation modules:"
      ]
    },
    {
      "cell_type": "code",
      "metadata": {
        "id": "JXpGJvwuaHhD",
        "colab_type": "code",
        "colab": {}
      },
      "source": [
        "#!pip install mlxtend==0.17.0\n",
        "#!pip install tensorflow==1.14\n",
        "!pip install tensorflow --upgrade\n",
        "#!pip install grpcio --upgrade\n",
        "#!pip install grpcio==1.15.0\n",
        "!pip install keras --upgrade\n",
        "#!pip install keras==2.2.5\n",
        "!pip install matplotlib --upgrade"
      ],
      "execution_count": 0,
      "outputs": []
    },
    {
      "cell_type": "markdown",
      "metadata": {
        "id": "qOdFJTyzjyKZ",
        "colab_type": "text"
      },
      "source": [
        "### Import modules:"
      ]
    },
    {
      "cell_type": "code",
      "metadata": {
        "id": "9SUVAe6Sj1Vu",
        "colab_type": "code",
        "colab": {}
      },
      "source": [
        "import tensorflow as tf\n",
        "from tensorflow.keras import Sequential\n",
        "import tensorflow.keras.layers as L\n",
        "from tensorflow.keras.datasets import cifar10\n",
        "from tensorflow.keras.callbacks import TensorBoard, ModelCheckpoint, EarlyStopping\n",
        "from tensorflow.keras.optimizers import SGD\n",
        "from keras.regularizers import l2\n",
        "\n",
        "import numpy as np\n",
        "from keras.preprocessing.image import ImageDataGenerator\n",
        "\n",
        "#to visualization traingn reluts\n",
        "import matplotlib as mp\n",
        "import matplotlib.pyplot as plt\n",
        "from mlxtend.plotting import plot_confusion_matrix\n",
        "from sklearn.metrics import confusion_matrix\n",
        "from sklearn.metrics import accuracy_score\n",
        "\n",
        "#to save model\n",
        "from google.colab import files\n",
        "from keras.models import load_model\n",
        "\n",
        "print(\"tesorflow version:\", tf.__version__)"
      ],
      "execution_count": 0,
      "outputs": []
    },
    {
      "cell_type": "markdown",
      "metadata": {
        "id": "OKB0PIwloElv",
        "colab_type": "text"
      },
      "source": [
        "### Initialize possible images classes:"
      ]
    },
    {
      "cell_type": "code",
      "metadata": {
        "id": "JTWR4i_Fnetk",
        "colab_type": "code",
        "colab": {}
      },
      "source": [
        "class_names = ['самолёт', 'автомобиль', 'птица', 'кот', 'олень', 'собака', 'лягушка', 'лошадь', 'корабль', 'грузовик']"
      ],
      "execution_count": 0,
      "outputs": []
    },
    {
      "cell_type": "markdown",
      "metadata": {
        "id": "tMoqBZpSl7x4",
        "colab_type": "text"
      },
      "source": [
        "### Loading data from dataset:"
      ]
    },
    {
      "cell_type": "code",
      "metadata": {
        "id": "09UhuoD_lvUY",
        "colab_type": "code",
        "outputId": "ce476cb0-48bc-42ca-fcdb-550601c97550",
        "colab": {
          "base_uri": "https://localhost:8080/",
          "height": 51
        }
      },
      "source": [
        "(input_train_data, output_train_data), (input_test_data, output_test_data) = cifar10.load_data()"
      ],
      "execution_count": 0,
      "outputs": [
        {
          "output_type": "stream",
          "text": [
            "Downloading data from https://www.cs.toronto.edu/~kriz/cifar-10-python.tar.gz\n",
            "170500096/170498071 [==============================] - 2s 0us/step\n"
          ],
          "name": "stdout"
        }
      ]
    },
    {
      "cell_type": "markdown",
      "metadata": {
        "id": "pGOS-dFGlkXn",
        "colab_type": "text"
      },
      "source": [
        "## **Training**"
      ]
    },
    {
      "cell_type": "markdown",
      "metadata": {
        "id": "Da-QHAtgFzo0",
        "colab_type": "text"
      },
      "source": [
        "### Normalization of data:"
      ]
    },
    {
      "cell_type": "code",
      "metadata": {
        "id": "7-QxPCd7o64c",
        "colab_type": "code",
        "colab": {}
      },
      "source": [
        "max_train = input_train_data.max()\n",
        "input_train_data = input_train_data / max_train.astype(float)\n",
        "input_test_data = input_test_data / max_train.astype(float)"
      ],
      "execution_count": 0,
      "outputs": []
    },
    {
      "cell_type": "markdown",
      "metadata": {
        "id": "lh4jUGC2qrIF",
        "colab_type": "text"
      },
      "source": [
        "My training set consists:"
      ]
    },
    {
      "cell_type": "code",
      "metadata": {
        "id": "v1Z45Sy7q2PZ",
        "colab_type": "code",
        "outputId": "7611b89f-911a-4444-d311-fd829d6cdd85",
        "colab": {
          "base_uri": "https://localhost:8080/",
          "height": 85
        }
      },
      "source": [
        "img_train_count = input_train_data.shape[0]\n",
        "img_train_sizes = [input_train_data.shape[1], \n",
        "                   input_train_data.shape[2]]\n",
        "img_color_train_count = input_train_data.shape[3] #count of images color channels\n",
        "print(\"---training data---\")\n",
        "print(\"images count:\", img_train_count)\n",
        "print(\"image size:\", img_train_sizes[0], \"*\", img_train_sizes[1])\n",
        "print(\"images count of colors:\", img_color_train_count) #RGB: must be 3"
      ],
      "execution_count": 0,
      "outputs": [
        {
          "output_type": "stream",
          "text": [
            "---training data---\n",
            "images count: 50000\n",
            "image size: 32 * 32\n",
            "images count of colors: 3\n"
          ],
          "name": "stdout"
        }
      ]
    },
    {
      "cell_type": "markdown",
      "metadata": {
        "id": "FdtixU0bulMq",
        "colab_type": "text"
      },
      "source": [
        "My test set consist:"
      ]
    },
    {
      "cell_type": "code",
      "metadata": {
        "id": "DPa_qINbuwnH",
        "colab_type": "code",
        "outputId": "f7ecd6c0-a45b-4f96-9837-25ff25a56013",
        "colab": {
          "base_uri": "https://localhost:8080/",
          "height": 85
        }
      },
      "source": [
        "img_test_count = input_test_data.shape[0]\n",
        "img_test_sizes = [input_test_data.shape[1], \n",
        "                  input_test_data.shape[2]]\n",
        "img_color_test_count = input_test_data.shape[3]\n",
        "print(\"---testing data---\")\n",
        "print(\"images count:\", img_test_count)\n",
        "print(\"image size:\", img_test_sizes[0], \"*\", img_test_sizes[1])\n",
        "print(\"images count of colors:\", img_color_test_count) #RGB: must be 3"
      ],
      "execution_count": 0,
      "outputs": [
        {
          "output_type": "stream",
          "text": [
            "---testing data---\n",
            "images count: 10000\n",
            "image size: 32 * 32\n",
            "images count of colors: 3\n"
          ],
          "name": "stdout"
        }
      ]
    },
    {
      "cell_type": "markdown",
      "metadata": {
        "id": "W0PRdlVn3dsy",
        "colab_type": "text"
      },
      "source": [
        "### **Creation neural networks:**"
      ]
    },
    {
      "cell_type": "markdown",
      "metadata": {
        "id": "HzFwsBv9_bGe",
        "colab_type": "text"
      },
      "source": [
        "*It have to change to improve training:*"
      ]
    },
    {
      "cell_type": "code",
      "metadata": {
        "id": "YdgoQeY0_Kga",
        "colab_type": "code",
        "colab": {}
      },
      "source": [
        "#for initialize neural network:\n",
        "padding_name = \"same\"\n",
        "padding_name_max_pool = \"valid\"\n",
        "activation_name = \"relu\"\n",
        "count_classes = 10\n",
        "\n",
        "#for creation network:\n",
        "optimizer_name = \"sgd\"\n",
        "loss_name = \"sparse_categorical_crossentropy\"\n",
        "metrix_names = [\"sparse_categorical_accuracy\", \"accuracy\"]\n",
        "strides = 2\n",
        "filter_count = 32\n",
        "\n",
        "#for training created model:\n",
        "batch_size = 32\n",
        "epochs = 75\n",
        "verbose = 2\n",
        "patience = 13\n",
        "droup_out = 0.3"
      ],
      "execution_count": 0,
      "outputs": []
    },
    {
      "cell_type": "markdown",
      "metadata": {
        "id": "di_TW3im8JIZ",
        "colab_type": "text"
      },
      "source": [
        "Augmintation data"
      ]
    },
    {
      "cell_type": "code",
      "metadata": {
        "id": "PUnLirea8RDj",
        "colab_type": "code",
        "outputId": "3500a52f-fa9e-4436-8211-c5dde5b44fdb",
        "colab": {
          "base_uri": "https://localhost:8080/",
          "height": 613
        }
      },
      "source": [
        "generator = ImageDataGenerator(\n",
        "    rotation_range = 10, \n",
        "    zoom_range = 0.18, \n",
        "    width_shift_range = 0.2, \n",
        "    height_shift_range = 0.2, \n",
        "    horizontal_flip = True)\n",
        "\n",
        "cnt = 0\n",
        "nrows = 3\n",
        "ncols = 6\n",
        "fig, axes = plt.subplots(nrows=nrows, ncols=ncols, figsize=(20, 10))\n",
        "for img_sample, _ in generator.flow(input_train_data, output_train_data, batch_size=batch_size):\n",
        "    for img in img_sample:\n",
        "        axes[cnt // ncols][cnt % ncols].imshow(img)\n",
        "        cnt += 1\n",
        "        if cnt >= nrows * ncols:\n",
        "            break\n",
        "    if cnt >= nrows * ncols:\n",
        "        break"
      ],
      "execution_count": 0,
      "outputs": [
        {
          "output_type": "display_data",
          "data": {
            "image/png": "[encoded data removed]",
            "text/plain": [
              "<Figure size 1440x720 with 18 Axes>"
            ]
          },
          "metadata": {
            "tags": []
          }
        }
      ]
    },
    {
      "cell_type": "markdown",
      "metadata": {
        "id": "kTwpT1n2_wrC",
        "colab_type": "text"
      },
      "source": [
        "**N**eural **n**etwork:"
      ]
    },
    {
      "cell_type": "code",
      "metadata": {
        "id": "1uNpU6163gX9",
        "colab_type": "code",
        "outputId": "233d8d07-569d-4082-bce7-9143638fd161",
        "colab": {
          "base_uri": "https://localhost:8080/",
          "height": 697
        }
      },
      "source": [
        "model = Sequential([\n",
        "# convolutional layer_1\n",
        "L.Conv2D(\n",
        "    filters = filter_count,  \n",
        "    kernel_size = (3, 3), \n",
        "    padding = padding_name,\n",
        "    activation = activation_name,    \n",
        "    input_shape = [img_test_sizes[0], img_test_sizes[1], img_color_test_count]),\n",
        "L.BatchNormalization(),\n",
        "# subsamping layer_1\n",
        "L.MaxPool2D(\n",
        "    pool_size = (2, 2), \n",
        "    strides = strides, \n",
        "    padding = padding_name_max_pool),\n",
        "\n",
        "# convolutional layer_2\n",
        "L.Conv2D(\n",
        "    filters = 2 * filter_count, \n",
        "    kernel_size = (3, 3), \n",
        "    padding = padding_name,\n",
        "    #kernel_regularizer = keras.regularizers.l2(0.001),   \n",
        "    activation = activation_name),\n",
        "L.BatchNormalization(),\n",
        "L.MaxPool2D(\n",
        "    pool_size = (2, 2), \n",
        "    strides = strides, \n",
        "    padding = padding_name_max_pool),\n",
        "\n",
        "# convulutional layer_3\n",
        "L.Conv2D(\n",
        "    filters = 2 * 2 * filter_count, \n",
        "    kernel_size = (3, 3),\n",
        "    padding = padding_name,    \n",
        "    activation = activation_name),\n",
        "L.BatchNormalization(),\n",
        "L.MaxPool2D(\n",
        "    pool_size = (2, 2), \n",
        "    strides = strides, \n",
        "    padding = padding_name_max_pool),\n",
        "\n",
        "# convulutional layer_4\n",
        "L.Conv2D(\n",
        "    filters = 2 * 2 * 2 * filter_count, \n",
        "    kernel_size = (3, 3),\n",
        "    padding = padding_name,    \n",
        "    activation = activation_name),\n",
        "L.BatchNormalization(),\n",
        "L.MaxPool2D(\n",
        "    pool_size = (2, 2), \n",
        "    strides = strides, \n",
        "    padding = padding_name_max_pool),\n",
        "\n",
        "# transformator layer from 2D to plate visualization\n",
        "L.Flatten(),\n",
        "\n",
        "# Полносвязный слой для классификации\n",
        "L.Dense(\n",
        "    units = 128,\n",
        "    activation = activation_name),\n",
        "\n",
        "L.Dropout(droup_out),\n",
        "\n",
        "# Выходной полносвязный слой\n",
        "L.Dense(\n",
        "    units = count_classes, \n",
        "    activation = \"softmax\")\n",
        "])\n",
        "\n",
        "model.summary()"
      ],
      "execution_count": 0,
      "outputs": [
        {
          "output_type": "stream",
          "text": [
            "Model: \"sequential_2\"\n",
            "_________________________________________________________________\n",
            "Layer (type)                 Output Shape              Param #   \n",
            "=================================================================\n",
            "conv2d_5 (Conv2D)            (None, 32, 32, 32)        896       \n",
            "_________________________________________________________________\n",
            "batch_normalization_5 (Batch (None, 32, 32, 32)        128       \n",
            "_________________________________________________________________\n",
            "max_pooling2d_5 (MaxPooling2 (None, 16, 16, 32)        0         \n",
            "_________________________________________________________________\n",
            "conv2d_6 (Conv2D)            (None, 16, 16, 64)        18496     \n",
            "_________________________________________________________________\n",
            "batch_normalization_6 (Batch (None, 16, 16, 64)        256       \n",
            "_________________________________________________________________\n",
            "max_pooling2d_6 (MaxPooling2 (None, 8, 8, 64)          0         \n",
            "_________________________________________________________________\n",
            "conv2d_7 (Conv2D)            (None, 8, 8, 128)         73856     \n",
            "_________________________________________________________________\n",
            "batch_normalization_7 (Batch (None, 8, 8, 128)         512       \n",
            "_________________________________________________________________\n",
            "max_pooling2d_7 (MaxPooling2 (None, 4, 4, 128)         0         \n",
            "_________________________________________________________________\n",
            "conv2d_8 (Conv2D)            (None, 4, 4, 256)         295168    \n",
            "_________________________________________________________________\n",
            "batch_normalization_8 (Batch (None, 4, 4, 256)         1024      \n",
            "_________________________________________________________________\n",
            "max_pooling2d_8 (MaxPooling2 (None, 2, 2, 256)         0         \n",
            "_________________________________________________________________\n",
            "flatten_2 (Flatten)          (None, 1024)              0         \n",
            "_________________________________________________________________\n",
            "dense_3 (Dense)              (None, 128)               131200    \n",
            "_________________________________________________________________\n",
            "dropout_2 (Dropout)          (None, 128)               0         \n",
            "_________________________________________________________________\n",
            "dense_4 (Dense)              (None, 10)                1290      \n",
            "=================================================================\n",
            "Total params: 522,826\n",
            "Trainable params: 521,866\n",
            "Non-trainable params: 960\n",
            "_________________________________________________________________\n"
          ],
          "name": "stdout"
        }
      ]
    },
    {
      "cell_type": "markdown",
      "metadata": {
        "id": "-benzkd9CrAH",
        "colab_type": "text"
      },
      "source": [
        "**C**reation:"
      ]
    },
    {
      "cell_type": "code",
      "metadata": {
        "id": "w5A9k3CkApqt",
        "colab_type": "code",
        "colab": {}
      },
      "source": [
        "model.compile(loss = loss_name,\n",
        "              optimizer = optimizer_name,\n",
        "              metrics=[metrix_names[0]])"
      ],
      "execution_count": 0,
      "outputs": []
    },
    {
      "cell_type": "markdown",
      "metadata": {
        "id": "AbtDhxv4DV4M",
        "colab_type": "text"
      },
      "source": [
        "**T**raining:"
      ]
    },
    {
      "cell_type": "code",
      "metadata": {
        "id": "cfM0zhMHDZrk",
        "colab_type": "code",
        "outputId": "2b0ec306-2f7a-443b-ee10-1c7cb6fad6c0",
        "colab": {
          "base_uri": "https://localhost:8080/",
          "height": 391
        }
      },
      "source": [
        "earlystop_callback = EarlyStopping(\n",
        "  monitor=\"val_sparse_categorical_accuracy\", \n",
        "  min_delta = 0.0001,\n",
        "  patience = patience)\n",
        "\n",
        "history = model.fit_generator(\n",
        "    generator.flow(input_train_data, output_train_data, batch_size=batch_size),   \n",
        "    verbose=verbose,\n",
        "    validation_data=(input_test_data, output_test_data),\n",
        "    steps_per_epoch = 6 * img_test_count // batch_size,\n",
        "    epochs = epochs,\n",
        "    callbacks=[earlystop_callback])\n",
        "\n",
        "scores_training = model.evaluate(x = input_train_data,\n",
        "                             y = output_train_data, \n",
        "                             verbose = verbose)\n",
        "print(\"Точность работы на треннировочных данных: %.2f%%\" % (scores_training[1]*100))\n",
        "\n",
        "scores_test = model.evaluate(x = input_test_data,\n",
        "                             y = output_test_data, \n",
        "                             verbose = verbose)\n",
        "print(\"Точность работы на тестовых данных: %.2f%%\" % (scores_test[1]*100))\n",
        "\n",
        "# Plot training & validation accuracy values\n",
        "#epochs = \n",
        "epoch_range = range(1, epochs + 1)\n",
        "plt.plot(epoch_range, history.history[metrix_names[0]])\n",
        "plt.plot(epoch_range, history.history['val_sparse_categorical_accuracy'])\n",
        "plt.title('Model accuracy')\n",
        "plt.ylabel('Accuracy')\n",
        "plt.xlabel('Epoch')\n",
        "plt.legend(['Train', 'Validation'], loc='upper left')\n",
        "plt.show()\n",
        "\n",
        "# Plot training & validation loss values\n",
        "plt.plot(epoch_range, history.history['loss'])\n",
        "plt.plot(epoch_range, history.history['val_loss'])\n",
        "plt.title('Model loss')\n",
        "plt.ylabel('Loss')\n",
        "plt.xlabel('Epoch')\n",
        "plt.legend(['Train', 'Val'], loc='upper left')\n",
        "plt.show()"
      ],
      "execution_count": 0,
      "outputs": [
        {
          "output_type": "stream",
          "text": [
            "Epoch 1/75\n"
          ],
          "name": "stdout"
        },
        {
          "output_type": "error",
          "ename": "KeyboardInterrupt",
          "evalue": "ignored",
          "traceback": [
            "\u001b[0;31m---------------------------------------------------------------------------\u001b[0m",
            "\u001b[0;31mKeyboardInterrupt\u001b[0m                         Traceback (most recent call last)",
            "\u001b[0;32m<ipython-input-15-72fbc1515cb0>\u001b[0m in \u001b[0;36m<module>\u001b[0;34m()\u001b[0m\n\u001b[1;32m     10\u001b[0m     \u001b[0msteps_per_epoch\u001b[0m \u001b[0;34m=\u001b[0m \u001b[0;36m6\u001b[0m \u001b[0;34m*\u001b[0m \u001b[0mimg_test_count\u001b[0m \u001b[0;34m//\u001b[0m \u001b[0mbatch_size\u001b[0m\u001b[0;34m,\u001b[0m\u001b[0;34m\u001b[0m\u001b[0;34m\u001b[0m\u001b[0m\n\u001b[1;32m     11\u001b[0m     \u001b[0mepochs\u001b[0m \u001b[0;34m=\u001b[0m \u001b[0mepochs\u001b[0m\u001b[0;34m,\u001b[0m\u001b[0;34m\u001b[0m\u001b[0;34m\u001b[0m\u001b[0m\n\u001b[0;32m---> 12\u001b[0;31m     callbacks=[earlystop_callback])\n\u001b[0m\u001b[1;32m     13\u001b[0m \u001b[0;34m\u001b[0m\u001b[0m\n\u001b[1;32m     14\u001b[0m scores_training = model.evaluate(x = input_train_data,\n",
            "\u001b[0;32m/usr/local/lib/python3.6/dist-packages/keras/legacy/interfaces.py\u001b[0m in \u001b[0;36mwrapper\u001b[0;34m(*args, **kwargs)\u001b[0m\n\u001b[1;32m     89\u001b[0m                 warnings.warn('Update your `' + object_name + '` call to the ' +\n\u001b[1;32m     90\u001b[0m                               'Keras 2 API: ' + signature, stacklevel=2)\n\u001b[0;32m---> 91\u001b[0;31m             \u001b[0;32mreturn\u001b[0m \u001b[0mfunc\u001b[0m\u001b[0;34m(\u001b[0m\u001b[0;34m*\u001b[0m\u001b[0margs\u001b[0m\u001b[0;34m,\u001b[0m \u001b[0;34m**\u001b[0m\u001b[0mkwargs\u001b[0m\u001b[0;34m)\u001b[0m\u001b[0;34m\u001b[0m\u001b[0;34m\u001b[0m\u001b[0m\n\u001b[0m\u001b[1;32m     92\u001b[0m         \u001b[0mwrapper\u001b[0m\u001b[0;34m.\u001b[0m\u001b[0m_original_function\u001b[0m \u001b[0;34m=\u001b[0m \u001b[0mfunc\u001b[0m\u001b[0;34m\u001b[0m\u001b[0;34m\u001b[0m\u001b[0m\n\u001b[1;32m     93\u001b[0m         \u001b[0;32mreturn\u001b[0m \u001b[0mwrapper\u001b[0m\u001b[0;34m\u001b[0m\u001b[0;34m\u001b[0m\u001b[0m\n",
            "\u001b[0;32m/usr/local/lib/python3.6/dist-packages/keras/engine/training.py\u001b[0m in \u001b[0;36mfit_generator\u001b[0;34m(self, generator, steps_per_epoch, epochs, verbose, callbacks, validation_data, validation_steps, validation_freq, class_weight, max_queue_size, workers, use_multiprocessing, shuffle, initial_epoch)\u001b[0m\n\u001b[1;32m   1730\u001b[0m             \u001b[0muse_multiprocessing\u001b[0m\u001b[0;34m=\u001b[0m\u001b[0muse_multiprocessing\u001b[0m\u001b[0;34m,\u001b[0m\u001b[0;34m\u001b[0m\u001b[0;34m\u001b[0m\u001b[0m\n\u001b[1;32m   1731\u001b[0m             \u001b[0mshuffle\u001b[0m\u001b[0;34m=\u001b[0m\u001b[0mshuffle\u001b[0m\u001b[0;34m,\u001b[0m\u001b[0;34m\u001b[0m\u001b[0;34m\u001b[0m\u001b[0m\n\u001b[0;32m-> 1732\u001b[0;31m             initial_epoch=initial_epoch)\n\u001b[0m\u001b[1;32m   1733\u001b[0m \u001b[0;34m\u001b[0m\u001b[0m\n\u001b[1;32m   1734\u001b[0m     \u001b[0;34m@\u001b[0m\u001b[0minterfaces\u001b[0m\u001b[0;34m.\u001b[0m\u001b[0mlegacy_generator_methods_support\u001b[0m\u001b[0;34m\u001b[0m\u001b[0;34m\u001b[0m\u001b[0m\n",
            "\u001b[0;32m/usr/local/lib/python3.6/dist-packages/keras/engine/training_generator.py\u001b[0m in \u001b[0;36mfit_generator\u001b[0;34m(model, generator, steps_per_epoch, epochs, verbose, callbacks, validation_data, validation_steps, validation_freq, class_weight, max_queue_size, workers, use_multiprocessing, shuffle, initial_epoch)\u001b[0m\n\u001b[1;32m    218\u001b[0m                                             \u001b[0msample_weight\u001b[0m\u001b[0;34m=\u001b[0m\u001b[0msample_weight\u001b[0m\u001b[0;34m,\u001b[0m\u001b[0;34m\u001b[0m\u001b[0;34m\u001b[0m\u001b[0m\n\u001b[1;32m    219\u001b[0m                                             \u001b[0mclass_weight\u001b[0m\u001b[0;34m=\u001b[0m\u001b[0mclass_weight\u001b[0m\u001b[0;34m,\u001b[0m\u001b[0;34m\u001b[0m\u001b[0;34m\u001b[0m\u001b[0m\n\u001b[0;32m--> 220\u001b[0;31m                                             reset_metrics=False)\n\u001b[0m\u001b[1;32m    221\u001b[0m \u001b[0;34m\u001b[0m\u001b[0m\n\u001b[1;32m    222\u001b[0m                 \u001b[0mouts\u001b[0m \u001b[0;34m=\u001b[0m \u001b[0mto_list\u001b[0m\u001b[0;34m(\u001b[0m\u001b[0mouts\u001b[0m\u001b[0;34m)\u001b[0m\u001b[0;34m\u001b[0m\u001b[0;34m\u001b[0m\u001b[0m\n",
            "\u001b[0;32m/usr/local/lib/python3.6/dist-packages/keras/engine/training.py\u001b[0m in \u001b[0;36mtrain_on_batch\u001b[0;34m(self, x, y, sample_weight, class_weight, reset_metrics)\u001b[0m\n\u001b[1;32m   1512\u001b[0m             \u001b[0mins\u001b[0m \u001b[0;34m=\u001b[0m \u001b[0mx\u001b[0m \u001b[0;34m+\u001b[0m \u001b[0my\u001b[0m \u001b[0;34m+\u001b[0m \u001b[0msample_weights\u001b[0m\u001b[0;34m\u001b[0m\u001b[0;34m\u001b[0m\u001b[0m\n\u001b[1;32m   1513\u001b[0m         \u001b[0mself\u001b[0m\u001b[0;34m.\u001b[0m\u001b[0m_make_train_function\u001b[0m\u001b[0;34m(\u001b[0m\u001b[0;34m)\u001b[0m\u001b[0;34m\u001b[0m\u001b[0;34m\u001b[0m\u001b[0m\n\u001b[0;32m-> 1514\u001b[0;31m         \u001b[0moutputs\u001b[0m \u001b[0;34m=\u001b[0m \u001b[0mself\u001b[0m\u001b[0;34m.\u001b[0m\u001b[0mtrain_function\u001b[0m\u001b[0;34m(\u001b[0m\u001b[0mins\u001b[0m\u001b[0;34m)\u001b[0m\u001b[0;34m\u001b[0m\u001b[0;34m\u001b[0m\u001b[0m\n\u001b[0m\u001b[1;32m   1515\u001b[0m \u001b[0;34m\u001b[0m\u001b[0m\n\u001b[1;32m   1516\u001b[0m         \u001b[0;32mif\u001b[0m \u001b[0mreset_metrics\u001b[0m\u001b[0;34m:\u001b[0m\u001b[0;34m\u001b[0m\u001b[0;34m\u001b[0m\u001b[0m\n",
            "\u001b[0;32m/usr/local/lib/python3.6/dist-packages/tensorflow_core/python/keras/backend.py\u001b[0m in \u001b[0;36m__call__\u001b[0;34m(self, inputs)\u001b[0m\n\u001b[1;32m   3738\u001b[0m         \u001b[0mvalue\u001b[0m \u001b[0;34m=\u001b[0m \u001b[0mmath_ops\u001b[0m\u001b[0;34m.\u001b[0m\u001b[0mcast\u001b[0m\u001b[0;34m(\u001b[0m\u001b[0mvalue\u001b[0m\u001b[0;34m,\u001b[0m \u001b[0mtensor\u001b[0m\u001b[0;34m.\u001b[0m\u001b[0mdtype\u001b[0m\u001b[0;34m)\u001b[0m\u001b[0;34m\u001b[0m\u001b[0;34m\u001b[0m\u001b[0m\n\u001b[1;32m   3739\u001b[0m       \u001b[0mconverted_inputs\u001b[0m\u001b[0;34m.\u001b[0m\u001b[0mappend\u001b[0m\u001b[0;34m(\u001b[0m\u001b[0mvalue\u001b[0m\u001b[0;34m)\u001b[0m\u001b[0;34m\u001b[0m\u001b[0;34m\u001b[0m\u001b[0m\n\u001b[0;32m-> 3740\u001b[0;31m     \u001b[0moutputs\u001b[0m \u001b[0;34m=\u001b[0m \u001b[0mself\u001b[0m\u001b[0;34m.\u001b[0m\u001b[0m_graph_fn\u001b[0m\u001b[0;34m(\u001b[0m\u001b[0;34m*\u001b[0m\u001b[0mconverted_inputs\u001b[0m\u001b[0;34m)\u001b[0m\u001b[0;34m\u001b[0m\u001b[0;34m\u001b[0m\u001b[0m\n\u001b[0m\u001b[1;32m   3741\u001b[0m \u001b[0;34m\u001b[0m\u001b[0m\n\u001b[1;32m   3742\u001b[0m     \u001b[0;31m# EagerTensor.numpy() will often make a copy to ensure memory safety.\u001b[0m\u001b[0;34m\u001b[0m\u001b[0;34m\u001b[0m\u001b[0;34m\u001b[0m\u001b[0m\n",
            "\u001b[0;32m/usr/local/lib/python3.6/dist-packages/tensorflow_core/python/eager/function.py\u001b[0m in \u001b[0;36m__call__\u001b[0;34m(self, *args, **kwargs)\u001b[0m\n\u001b[1;32m   1079\u001b[0m       \u001b[0mTypeError\u001b[0m\u001b[0;34m:\u001b[0m \u001b[0mFor\u001b[0m \u001b[0minvalid\u001b[0m \u001b[0mpositional\u001b[0m\u001b[0;34m/\u001b[0m\u001b[0mkeyword\u001b[0m \u001b[0margument\u001b[0m \u001b[0mcombinations\u001b[0m\u001b[0;34m.\u001b[0m\u001b[0;34m\u001b[0m\u001b[0;34m\u001b[0m\u001b[0m\n\u001b[1;32m   1080\u001b[0m     \"\"\"\n\u001b[0;32m-> 1081\u001b[0;31m     \u001b[0;32mreturn\u001b[0m \u001b[0mself\u001b[0m\u001b[0;34m.\u001b[0m\u001b[0m_call_impl\u001b[0m\u001b[0;34m(\u001b[0m\u001b[0margs\u001b[0m\u001b[0;34m,\u001b[0m \u001b[0mkwargs\u001b[0m\u001b[0;34m)\u001b[0m\u001b[0;34m\u001b[0m\u001b[0;34m\u001b[0m\u001b[0m\n\u001b[0m\u001b[1;32m   1082\u001b[0m \u001b[0;34m\u001b[0m\u001b[0m\n\u001b[1;32m   1083\u001b[0m   \u001b[0;32mdef\u001b[0m \u001b[0m_call_impl\u001b[0m\u001b[0;34m(\u001b[0m\u001b[0mself\u001b[0m\u001b[0;34m,\u001b[0m \u001b[0margs\u001b[0m\u001b[0;34m,\u001b[0m \u001b[0mkwargs\u001b[0m\u001b[0;34m,\u001b[0m \u001b[0mcancellation_manager\u001b[0m\u001b[0;34m=\u001b[0m\u001b[0;32mNone\u001b[0m\u001b[0;34m)\u001b[0m\u001b[0;34m:\u001b[0m\u001b[0;34m\u001b[0m\u001b[0;34m\u001b[0m\u001b[0m\n",
            "\u001b[0;32m/usr/local/lib/python3.6/dist-packages/tensorflow_core/python/eager/function.py\u001b[0m in \u001b[0;36m_call_impl\u001b[0;34m(self, args, kwargs, cancellation_manager)\u001b[0m\n\u001b[1;32m   1119\u001b[0m       raise TypeError(\"Keyword arguments {} unknown. Expected {}.\".format(\n\u001b[1;32m   1120\u001b[0m           list(kwargs.keys()), list(self._arg_keywords)))\n\u001b[0;32m-> 1121\u001b[0;31m     \u001b[0;32mreturn\u001b[0m \u001b[0mself\u001b[0m\u001b[0;34m.\u001b[0m\u001b[0m_call_flat\u001b[0m\u001b[0;34m(\u001b[0m\u001b[0margs\u001b[0m\u001b[0;34m,\u001b[0m \u001b[0mself\u001b[0m\u001b[0;34m.\u001b[0m\u001b[0mcaptured_inputs\u001b[0m\u001b[0;34m,\u001b[0m \u001b[0mcancellation_manager\u001b[0m\u001b[0;34m)\u001b[0m\u001b[0;34m\u001b[0m\u001b[0;34m\u001b[0m\u001b[0m\n\u001b[0m\u001b[1;32m   1122\u001b[0m \u001b[0;34m\u001b[0m\u001b[0m\n\u001b[1;32m   1123\u001b[0m   \u001b[0;32mdef\u001b[0m \u001b[0m_filtered_call\u001b[0m\u001b[0;34m(\u001b[0m\u001b[0mself\u001b[0m\u001b[0;34m,\u001b[0m \u001b[0margs\u001b[0m\u001b[0;34m,\u001b[0m \u001b[0mkwargs\u001b[0m\u001b[0;34m)\u001b[0m\u001b[0;34m:\u001b[0m\u001b[0;34m\u001b[0m\u001b[0;34m\u001b[0m\u001b[0m\n",
            "\u001b[0;32m/usr/local/lib/python3.6/dist-packages/tensorflow_core/python/eager/function.py\u001b[0m in \u001b[0;36m_call_flat\u001b[0;34m(self, args, captured_inputs, cancellation_manager)\u001b[0m\n\u001b[1;32m   1222\u001b[0m     \u001b[0;32mif\u001b[0m \u001b[0mexecuting_eagerly\u001b[0m\u001b[0;34m:\u001b[0m\u001b[0;34m\u001b[0m\u001b[0;34m\u001b[0m\u001b[0m\n\u001b[1;32m   1223\u001b[0m       flat_outputs = forward_function.call(\n\u001b[0;32m-> 1224\u001b[0;31m           ctx, args, cancellation_manager=cancellation_manager)\n\u001b[0m\u001b[1;32m   1225\u001b[0m     \u001b[0;32melse\u001b[0m\u001b[0;34m:\u001b[0m\u001b[0;34m\u001b[0m\u001b[0;34m\u001b[0m\u001b[0m\n\u001b[1;32m   1226\u001b[0m       \u001b[0mgradient_name\u001b[0m \u001b[0;34m=\u001b[0m \u001b[0mself\u001b[0m\u001b[0;34m.\u001b[0m\u001b[0m_delayed_rewrite_functions\u001b[0m\u001b[0;34m.\u001b[0m\u001b[0mregister\u001b[0m\u001b[0;34m(\u001b[0m\u001b[0;34m)\u001b[0m\u001b[0;34m\u001b[0m\u001b[0;34m\u001b[0m\u001b[0m\n",
            "\u001b[0;32m/usr/local/lib/python3.6/dist-packages/tensorflow_core/python/eager/function.py\u001b[0m in \u001b[0;36mcall\u001b[0;34m(self, ctx, args, cancellation_manager)\u001b[0m\n\u001b[1;32m    509\u001b[0m               \u001b[0minputs\u001b[0m\u001b[0;34m=\u001b[0m\u001b[0margs\u001b[0m\u001b[0;34m,\u001b[0m\u001b[0;34m\u001b[0m\u001b[0;34m\u001b[0m\u001b[0m\n\u001b[1;32m    510\u001b[0m               \u001b[0mattrs\u001b[0m\u001b[0;34m=\u001b[0m\u001b[0;34m(\u001b[0m\u001b[0;34m\"executor_type\"\u001b[0m\u001b[0;34m,\u001b[0m \u001b[0mexecutor_type\u001b[0m\u001b[0;34m,\u001b[0m \u001b[0;34m\"config_proto\"\u001b[0m\u001b[0;34m,\u001b[0m \u001b[0mconfig\u001b[0m\u001b[0;34m)\u001b[0m\u001b[0;34m,\u001b[0m\u001b[0;34m\u001b[0m\u001b[0;34m\u001b[0m\u001b[0m\n\u001b[0;32m--> 511\u001b[0;31m               ctx=ctx)\n\u001b[0m\u001b[1;32m    512\u001b[0m         \u001b[0;32melse\u001b[0m\u001b[0;34m:\u001b[0m\u001b[0;34m\u001b[0m\u001b[0;34m\u001b[0m\u001b[0m\n\u001b[1;32m    513\u001b[0m           outputs = execute.execute_with_cancellation(\n",
            "\u001b[0;32m/usr/local/lib/python3.6/dist-packages/tensorflow_core/python/eager/execute.py\u001b[0m in \u001b[0;36mquick_execute\u001b[0;34m(op_name, num_outputs, inputs, attrs, ctx, name)\u001b[0m\n\u001b[1;32m     59\u001b[0m     tensors = pywrap_tensorflow.TFE_Py_Execute(ctx._handle, device_name,\n\u001b[1;32m     60\u001b[0m                                                \u001b[0mop_name\u001b[0m\u001b[0;34m,\u001b[0m \u001b[0minputs\u001b[0m\u001b[0;34m,\u001b[0m \u001b[0mattrs\u001b[0m\u001b[0;34m,\u001b[0m\u001b[0;34m\u001b[0m\u001b[0;34m\u001b[0m\u001b[0m\n\u001b[0;32m---> 61\u001b[0;31m                                                num_outputs)\n\u001b[0m\u001b[1;32m     62\u001b[0m   \u001b[0;32mexcept\u001b[0m \u001b[0mcore\u001b[0m\u001b[0;34m.\u001b[0m\u001b[0m_NotOkStatusException\u001b[0m \u001b[0;32mas\u001b[0m \u001b[0me\u001b[0m\u001b[0;34m:\u001b[0m\u001b[0;34m\u001b[0m\u001b[0;34m\u001b[0m\u001b[0m\n\u001b[1;32m     63\u001b[0m     \u001b[0;32mif\u001b[0m \u001b[0mname\u001b[0m \u001b[0;32mis\u001b[0m \u001b[0;32mnot\u001b[0m \u001b[0;32mNone\u001b[0m\u001b[0;34m:\u001b[0m\u001b[0;34m\u001b[0m\u001b[0;34m\u001b[0m\u001b[0m\n",
            "\u001b[0;31mKeyboardInterrupt\u001b[0m: "
          ]
        }
      ]
    },
    {
      "cell_type": "markdown",
      "metadata": {
        "id": "2HpCUc2mHmdJ",
        "colab_type": "text"
      },
      "source": [
        "## **Result**"
      ]
    },
    {
      "cell_type": "markdown",
      "metadata": {
        "id": "rN6uA5iHnkQS",
        "colab_type": "text"
      },
      "source": [
        "\n",
        "### Quality assessment of the constructed model:"
      ]
    },
    {
      "cell_type": "code",
      "metadata": {
        "id": "Esei1rUlH3Tv",
        "colab_type": "code",
        "colab": {}
      },
      "source": [
        "scores_training = model.evaluate(x = input_train_data,\n",
        "                             y = output_train_data, \n",
        "                             verbose = verbose)\n",
        "print(\"Точность работы на треннировочных данных: %.2f%%\" % (scores_training[1]*100))\n",
        "\n",
        "scores_test = model.evaluate(x = input_test_data,\n",
        "                             y = output_test_data, \n",
        "                             verbose = verbose)\n",
        "print(\"Точность работы на тестовых данных: %.2f%%\" % (scores_test[1]*100))"
      ],
      "execution_count": 0,
      "outputs": []
    },
    {
      "cell_type": "markdown",
      "metadata": {
        "id": "XQGODMYycBxU",
        "colab_type": "text"
      },
      "source": [
        "### Visualization training result:"
      ]
    },
    {
      "cell_type": "markdown",
      "metadata": {
        "id": "xQmg5wzWed8_",
        "colab_type": "text"
      },
      "source": [
        "**Make training graphs**:\n",
        "1. Model accuracy, which show how *accuracy* depends on the number of *epochs*\n",
        "2. Model loss, which show how *loss* depends on the number of *epochs*"
      ]
    },
    {
      "cell_type": "code",
      "metadata": {
        "id": "fTSfc6vDcIvY",
        "colab_type": "code",
        "outputId": "fdf8a907-7122-4d5c-d92f-7aea24681023",
        "colab": {
          "base_uri": "https://localhost:8080/",
          "height": 573
        }
      },
      "source": [
        "# Plot training & validation accuracy values\n",
        "#epochs = \n",
        "epoch_range = range(1, epochs + 1)\n",
        "plt.plot(epoch_range, history.history[metrix_names[0]])\n",
        "plt.plot(epoch_range, history.history['val_sparse_categorical_accuracy'])\n",
        "plt.title('Model accuracy')\n",
        "plt.ylabel('Accuracy')\n",
        "plt.xlabel('Epoch')\n",
        "plt.legend(['Train', 'Validation'], loc='upper left')\n",
        "plt.show()\n",
        "\n",
        "# Plot training & validation loss values\n",
        "plt.plot(epoch_range, history.history['loss'])\n",
        "plt.plot(epoch_range, history.history['val_loss'])\n",
        "plt.title('Model loss')\n",
        "plt.ylabel('Loss')\n",
        "plt.xlabel('Epoch')\n",
        "plt.legend(['Train', 'Val'], loc='upper left')\n",
        "plt.show()"
      ],
      "execution_count": 0,
      "outputs": [
        {
          "output_type": "display_data",
          "data": {
            "image/png": "[encoded data removed]",
            "text/plain": [
              "<Figure size 432x288 with 1 Axes>"
            ]
          },
          "metadata": {
            "tags": []
          }
        },
        {
          "output_type": "display_data",
          "data": {
            "image/png": "[encoded data removed]",
            "text/plain": [
              "<Figure size 432x288 with 1 Axes>"
            ]
          },
          "metadata": {
            "tags": []
          }
        }
      ]
    },
    {
      "cell_type": "markdown",
      "metadata": {
        "id": "7SBPCeVygH61",
        "colab_type": "text"
      },
      "source": [
        "Show result for every class in *table*:"
      ]
    },
    {
      "cell_type": "code",
      "metadata": {
        "id": "9z3W4aVBgPPD",
        "colab_type": "code",
        "colab": {}
      },
      "source": [
        "y_pred = model.predict_classes(input_test_data)\n",
        "conf_matrix = confusion_matrix(output_test_data, y_pred)\n",
        "plot_confusion_matrix(conf_matrix,\n",
        "                      figsize = (15, 11),\n",
        "                      colorbar = True,                       \n",
        "                      show_normed = True,\n",
        "                      show_absolute = False)                      "
      ],
      "execution_count": 0,
      "outputs": []
    },
    {
      "cell_type": "markdown",
      "metadata": {
        "id": "6mcEZpSemNuJ",
        "colab_type": "text"
      },
      "source": [
        "## **Saving**"
      ]
    },
    {
      "cell_type": "markdown",
      "metadata": {
        "id": "Jo-hJOpFmIFJ",
        "colab_type": "text"
      },
      "source": [
        "### Saving result to *colab*:"
      ]
    },
    {
      "cell_type": "code",
      "metadata": {
        "id": "WuIDNNlimF7A",
        "colab_type": "code",
        "colab": {}
      },
      "source": [
        "with open(\"model_best.json\", 'w') as json_file:\n",
        "  json_file.write(model.to_json())\n",
        "model.save_weights(\"model_best.h5\")"
      ],
      "execution_count": 0,
      "outputs": []
    },
    {
      "cell_type": "code",
      "metadata": {
        "id": "p-3UXgQJFBDh",
        "colab_type": "code",
        "outputId": "b694eb8c-3b48-4333-fd8a-dd2d18cc14e7",
        "colab": {
          "base_uri": "https://localhost:8080/",
          "height": 34
        }
      },
      "source": [
        "!ls"
      ],
      "execution_count": 0,
      "outputs": [
        {
          "output_type": "stream",
          "text": [
            "model_best.h5  model_best.json\tsample_data\n"
          ],
          "name": "stdout"
        }
      ]
    },
    {
      "cell_type": "code",
      "metadata": {
        "id": "0G1P3EoGFXre",
        "colab_type": "code",
        "colab": {}
      },
      "source": [
        "!rm -rf 'model_6.json'"
      ],
      "execution_count": 0,
      "outputs": []
    },
    {
      "cell_type": "markdown",
      "metadata": {
        "id": "zXnyE4Hgm2we",
        "colab_type": "text"
      },
      "source": [
        "### Saving result to my *computer* from *colab*"
      ]
    },
    {
      "cell_type": "code",
      "metadata": {
        "id": "dHctestem8qC",
        "colab_type": "code",
        "colab": {}
      },
      "source": [
        "files.download(\"model_best.json\")"
      ],
      "execution_count": 0,
      "outputs": []
    },
    {
      "cell_type": "code",
      "metadata": {
        "id": "y9HJj11AnUQq",
        "colab_type": "code",
        "colab": {}
      },
      "source": [
        "files.download(\"model_best.h5\")"
      ],
      "execution_count": 0,
      "outputs": []
    },
    {
      "cell_type": "markdown",
      "metadata": {
        "id": "MI39LtrOp3Ns",
        "colab_type": "text"
      },
      "source": [
        "## **Loading**"
      ]
    },
    {
      "cell_type": "code",
      "metadata": {
        "id": "wP5wpP-h_gM4",
        "colab_type": "code",
        "colab": {}
      },
      "source": [
        "from google.colab import files\n",
        "files.upload()"
      ],
      "execution_count": 0,
      "outputs": []
    },
    {
      "cell_type": "code",
      "metadata": {
        "id": "YjtuKVc1GNZz",
        "colab_type": "code",
        "colab": {}
      },
      "source": [
        "model = load_model(\"model_3.h5\")"
      ],
      "execution_count": 0,
      "outputs": []
    }
  ]
}